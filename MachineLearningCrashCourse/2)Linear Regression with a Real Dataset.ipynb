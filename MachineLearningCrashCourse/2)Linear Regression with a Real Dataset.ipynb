{
 "cells": [
  {
   "cell_type": "code",
   "execution_count": 129,
   "id": "1abd53d5",
   "metadata": {},
   "outputs": [],
   "source": [
    "#Gerekli olan kütüphanelerin tanımlanması\n",
    "import pandas as pd\n",
    "import tensorflow as tf\n",
    "from matplotlib import pyplot as plt\n",
    "\n",
    "# Pandasın istenilen sayıda satır ve float kısımda gösterilecek basamak ayarı\n",
    "pd.options.display.max_rows = 10\n",
    "pd.options.display.float_format = \"{:.1f}\".format"
   ]
  },
  {
   "cell_type": "code",
   "execution_count": 130,
   "id": "90bba7fe",
   "metadata": {},
   "outputs": [
    {
     "data": {
      "text/html": [
       "<div>\n",
       "<style scoped>\n",
       "    .dataframe tbody tr th:only-of-type {\n",
       "        vertical-align: middle;\n",
       "    }\n",
       "\n",
       "    .dataframe tbody tr th {\n",
       "        vertical-align: top;\n",
       "    }\n",
       "\n",
       "    .dataframe thead th {\n",
       "        text-align: right;\n",
       "    }\n",
       "</style>\n",
       "<table border=\"1\" class=\"dataframe\">\n",
       "  <thead>\n",
       "    <tr style=\"text-align: right;\">\n",
       "      <th></th>\n",
       "      <th>longitude</th>\n",
       "      <th>latitude</th>\n",
       "      <th>housing_median_age</th>\n",
       "      <th>total_rooms</th>\n",
       "      <th>total_bedrooms</th>\n",
       "      <th>population</th>\n",
       "      <th>households</th>\n",
       "      <th>median_income</th>\n",
       "      <th>median_house_value</th>\n",
       "    </tr>\n",
       "  </thead>\n",
       "  <tbody>\n",
       "    <tr>\n",
       "      <th>count</th>\n",
       "      <td>17000.0</td>\n",
       "      <td>17000.0</td>\n",
       "      <td>17000.0</td>\n",
       "      <td>17000.0</td>\n",
       "      <td>17000.0</td>\n",
       "      <td>17000.0</td>\n",
       "      <td>17000.0</td>\n",
       "      <td>17000.0</td>\n",
       "      <td>17000.0</td>\n",
       "    </tr>\n",
       "    <tr>\n",
       "      <th>mean</th>\n",
       "      <td>-119.6</td>\n",
       "      <td>35.6</td>\n",
       "      <td>28.6</td>\n",
       "      <td>2643.7</td>\n",
       "      <td>539.4</td>\n",
       "      <td>1429.6</td>\n",
       "      <td>501.2</td>\n",
       "      <td>3.9</td>\n",
       "      <td>207.3</td>\n",
       "    </tr>\n",
       "    <tr>\n",
       "      <th>std</th>\n",
       "      <td>2.0</td>\n",
       "      <td>2.1</td>\n",
       "      <td>12.6</td>\n",
       "      <td>2179.9</td>\n",
       "      <td>421.5</td>\n",
       "      <td>1147.9</td>\n",
       "      <td>384.5</td>\n",
       "      <td>1.9</td>\n",
       "      <td>116.0</td>\n",
       "    </tr>\n",
       "    <tr>\n",
       "      <th>min</th>\n",
       "      <td>-124.3</td>\n",
       "      <td>32.5</td>\n",
       "      <td>1.0</td>\n",
       "      <td>2.0</td>\n",
       "      <td>1.0</td>\n",
       "      <td>3.0</td>\n",
       "      <td>1.0</td>\n",
       "      <td>0.5</td>\n",
       "      <td>15.0</td>\n",
       "    </tr>\n",
       "    <tr>\n",
       "      <th>25%</th>\n",
       "      <td>-121.8</td>\n",
       "      <td>33.9</td>\n",
       "      <td>18.0</td>\n",
       "      <td>1462.0</td>\n",
       "      <td>297.0</td>\n",
       "      <td>790.0</td>\n",
       "      <td>282.0</td>\n",
       "      <td>2.6</td>\n",
       "      <td>119.4</td>\n",
       "    </tr>\n",
       "    <tr>\n",
       "      <th>50%</th>\n",
       "      <td>-118.5</td>\n",
       "      <td>34.2</td>\n",
       "      <td>29.0</td>\n",
       "      <td>2127.0</td>\n",
       "      <td>434.0</td>\n",
       "      <td>1167.0</td>\n",
       "      <td>409.0</td>\n",
       "      <td>3.5</td>\n",
       "      <td>180.4</td>\n",
       "    </tr>\n",
       "    <tr>\n",
       "      <th>75%</th>\n",
       "      <td>-118.0</td>\n",
       "      <td>37.7</td>\n",
       "      <td>37.0</td>\n",
       "      <td>3151.2</td>\n",
       "      <td>648.2</td>\n",
       "      <td>1721.0</td>\n",
       "      <td>605.2</td>\n",
       "      <td>4.8</td>\n",
       "      <td>265.0</td>\n",
       "    </tr>\n",
       "    <tr>\n",
       "      <th>max</th>\n",
       "      <td>-114.3</td>\n",
       "      <td>42.0</td>\n",
       "      <td>52.0</td>\n",
       "      <td>37937.0</td>\n",
       "      <td>6445.0</td>\n",
       "      <td>35682.0</td>\n",
       "      <td>6082.0</td>\n",
       "      <td>15.0</td>\n",
       "      <td>500.0</td>\n",
       "    </tr>\n",
       "  </tbody>\n",
       "</table>\n",
       "</div>"
      ],
      "text/plain": [
       "       longitude  latitude  housing_median_age  total_rooms  total_bedrooms  \\\n",
       "count    17000.0   17000.0             17000.0      17000.0         17000.0   \n",
       "mean      -119.6      35.6                28.6       2643.7           539.4   \n",
       "std          2.0       2.1                12.6       2179.9           421.5   \n",
       "min       -124.3      32.5                 1.0          2.0             1.0   \n",
       "25%       -121.8      33.9                18.0       1462.0           297.0   \n",
       "50%       -118.5      34.2                29.0       2127.0           434.0   \n",
       "75%       -118.0      37.7                37.0       3151.2           648.2   \n",
       "max       -114.3      42.0                52.0      37937.0          6445.0   \n",
       "\n",
       "       population  households  median_income  median_house_value  \n",
       "count     17000.0     17000.0        17000.0             17000.0  \n",
       "mean       1429.6       501.2            3.9               207.3  \n",
       "std        1147.9       384.5            1.9               116.0  \n",
       "min           3.0         1.0            0.5                15.0  \n",
       "25%         790.0       282.0            2.6               119.4  \n",
       "50%        1167.0       409.0            3.5               180.4  \n",
       "75%        1721.0       605.2            4.8               265.0  \n",
       "max       35682.0      6082.0           15.0               500.0  "
      ]
     },
     "execution_count": 130,
     "metadata": {},
     "output_type": "execute_result"
    }
   ],
   "source": [
    "# veri kümesinin okunması.\n",
    "training_df = pd.read_csv(\"california_housing_train.csv\")\n",
    "\n",
    "# Veri nin değerlerinin ölçeklendirilmesi, veride herhangi bir değişimi neden olmaz sadece ölçeklendirir.\n",
    "training_df[\"median_house_value\"] /= 1000.0\n",
    "\n",
    "# Veririni tanımlanması, incelenmesiPrint the first rows of the pandas DataFrame.\n",
    "training_df.describe()"
   ]
  },
  {
   "cell_type": "code",
   "execution_count": 131,
   "id": "461902fa",
   "metadata": {},
   "outputs": [],
   "source": [
    "#model oluşturmak için fonkisyon tanımlanıypr \n",
    "def build_model(my_learning_rate):\n",
    "  # sequential modellemesi kullanılıyor basit yönlü olduğu için . \n",
    "  #https://www.datasciencearth.com/keras-model-wars-sequential-vs-functional/ detaylı anlatıma burdaan ulaşabilirsiniz\n",
    "  model = tf.keras.models.Sequential()\n",
    "\n",
    "\n",
    "  # tek katman  tek nöronlu bir yapı kullanılıyor ve giriş boyutu belirlenmesi\n",
    "  model.add(tf.keras.layers.Dense(units=1, \n",
    "                                  input_shape=(1,)))\n",
    "\n",
    "  # Model derleniyor optimizer olarak Kök kare ortolaması tercih ediliyor (Adams daha başarılı) ve loss değerini \n",
    "  # ortalamanın, gerçek değer ile farkınıni karesi toplamı  şeklinde buluyor(wikipedia'dan araştırmanızı tavsiye ederim)\n",
    "\n",
    "  model.compile(optimizer=tf.keras.optimizers.RMSprop(learning_rate=my_learning_rate),\n",
    "                loss=\"mean_squared_error\",\n",
    "                metrics=[tf.keras.metrics.RootMeanSquaredError()])\n",
    "\n",
    "  return model           \n",
    "\n",
    "# Modeli eğitmek için fonksiyon tanımlaması \n",
    "\n",
    "def train_model(model, df, feature, label, epochs, batch_size):\n",
    "\n",
    "\n",
    "  # Belirlediğimiz modele  verilen genişlik, tekrar sayısı ve veriler ile uyum sağlatıyoruz\n",
    "  history = model.fit(x=df[feature],\n",
    "                      y=df[label],\n",
    "                      batch_size=batch_size,\n",
    "                      epochs=epochs)\n",
    "\n",
    "  # Başlangın nokta ağırlığı bias' ı belirlenmesi.\n",
    "  trained_weight = model.get_weights()[0]\n",
    "  trained_bias = model.get_weights()[1]\n",
    "\n",
    "\n",
    "  epochs = history.epoch\n",
    "  \n",
    "  # Her tekrarda ayrı ayrı data frame'inin alınması ve gönderilmesi\n",
    "  hist = pd.DataFrame(history.history)\n",
    "\n",
    "  rmse = hist[\"root_mean_squared_error\"]\n",
    "\n",
    "  return trained_weight, trained_bias, epochs, rmse\n"
   ]
  },
  {
   "cell_type": "code",
   "execution_count": 140,
   "id": "763721e1",
   "metadata": {},
   "outputs": [],
   "source": [
    "# Modelin grafiğini olduşturma fonksiyonu (Seaborn daha detaylı ve anlaşılır grafik oluşturur)\n",
    "def plot_the_model(trained_weight, trained_bias, feature, label):\n",
    "  # eksen tanımı \n",
    "  plt.xlabel(\"feature\")\n",
    "  plt.ylabel(\"label\")\n",
    "\n",
    "# grafikte göstermek  random olarak örnek seçiyoru\n",
    "  random_examples = training_df.sample(n=200)\n",
    "  plt.scatter(random_examples[feature], random_examples[label])\n",
    "\n",
    "\n",
    "\n",
    "  # daha iyi anlamak için kırmızı çizgi ile lineer regresyon da baz alınan değerleri gösterme\n",
    "  x0 = 0\n",
    "  y0 = trained_bias\n",
    "  x1 = 10\n",
    "  y1 = trained_bias + (trained_weight * x1)\n",
    "  plt.plot([x0, x1], [y0, y1], c='r')\n",
    "\n",
    "  # Ekrana gösterme işlmei\n",
    "  plt.show()\n",
    "\n",
    "def plot_the_loss_curve(epochs, rmse):\n",
    "  #Loss değerlerin epoch a göre değişimi (ÇOK ÖNEMLİ BİR GRAFİK BURADAN MODELİMİZ HAKKINDA BİR ÇOK YORUM YAPACAĞIZ)\n",
    "\n",
    "  plt.figure()\n",
    "  plt.xlabel(\"Epoch\")\n",
    "  plt.ylabel(\"Root Mean Squared Error\")\n",
    "\n",
    "  plt.plot(epochs, rmse, label=\"Loss\")\n",
    "  plt.legend()\n",
    "  plt.ylim([rmse.min()*0.97, rmse.max()])\n",
    "  plt.show()  \n"
   ]
  },
  {
   "cell_type": "code",
   "execution_count": 135,
   "id": "1f0ba2f0",
   "metadata": {},
   "outputs": [
    {
     "name": "stdout",
     "output_type": "stream",
     "text": [
      "Epoch 1/30\n",
      "567/567 [==============================] - 1s 1ms/step - loss: 334577.9688 - root_mean_squared_error: 578.4271\n",
      "Epoch 2/30\n",
      "567/567 [==============================] - 1s 2ms/step - loss: 27842.6680 - root_mean_squared_error: 166.8612\n",
      "Epoch 3/30\n",
      "567/567 [==============================] - 1s 1ms/step - loss: 26718.2402 - root_mean_squared_error: 163.4572\n",
      "Epoch 4/30\n",
      "567/567 [==============================] - 1s 1ms/step - loss: 26461.6973 - root_mean_squared_error: 162.6705\n",
      "Epoch 5/30\n",
      "567/567 [==============================] - 1s 1ms/step - loss: 25459.7168 - root_mean_squared_error: 159.5610\n",
      "Epoch 6/30\n",
      "567/567 [==============================] - 1s 1ms/step - loss: 25063.8672 - root_mean_squared_error: 158.3157\n",
      "Epoch 7/30\n",
      "567/567 [==============================] - 1s 1ms/step - loss: 24244.4473 - root_mean_squared_error: 155.7063\n",
      "Epoch 8/30\n",
      "567/567 [==============================] - 1s 1ms/step - loss: 23734.1504 - root_mean_squared_error: 154.0589\n",
      "Epoch 9/30\n",
      "567/567 [==============================] - 1s 1ms/step - loss: 23025.9121 - root_mean_squared_error: 151.7429\n",
      "Epoch 10/30\n",
      "567/567 [==============================] - 1s 1ms/step - loss: 22440.0586 - root_mean_squared_error: 149.8001\n",
      "Epoch 11/30\n",
      "567/567 [==============================] - 1s 1ms/step - loss: 21779.1328 - root_mean_squared_error: 147.5775\n",
      "Epoch 12/30\n",
      "567/567 [==============================] - 1s 1ms/step - loss: 21293.3828 - root_mean_squared_error: 145.9225\n",
      "Epoch 13/30\n",
      "567/567 [==============================] - 1s 1ms/step - loss: 20724.8652 - root_mean_squared_error: 143.9613\n",
      "Epoch 14/30\n",
      "567/567 [==============================] - 1s 1ms/step - loss: 20245.4062 - root_mean_squared_error: 142.2863\n",
      "Epoch 15/30\n",
      "567/567 [==============================] - 1s 1ms/step - loss: 19908.5703 - root_mean_squared_error: 141.0977\n",
      "Epoch 16/30\n",
      "567/567 [==============================] - 1s 1ms/step - loss: 19398.7734 - root_mean_squared_error: 139.2795\n",
      "Epoch 17/30\n",
      "567/567 [==============================] - 1s 1ms/step - loss: 19002.5977 - root_mean_squared_error: 137.8499\n",
      "Epoch 18/30\n",
      "567/567 [==============================] - 1s 1ms/step - loss: 18699.4883 - root_mean_squared_error: 136.7461\n",
      "Epoch 19/30\n",
      "567/567 [==============================] - 1s 1ms/step - loss: 18217.9258 - root_mean_squared_error: 134.9738\n",
      "Epoch 20/30\n",
      "567/567 [==============================] - 1s 1ms/step - loss: 17831.7637 - root_mean_squared_error: 133.5356\n",
      "Epoch 21/30\n",
      "567/567 [==============================] - 1s 1ms/step - loss: 17641.9785 - root_mean_squared_error: 132.8231\n",
      "Epoch 22/30\n",
      "567/567 [==============================] - 1s 1ms/step - loss: 17215.4688 - root_mean_squared_error: 131.2077\n",
      "Epoch 23/30\n",
      "567/567 [==============================] - 1s 1ms/step - loss: 16892.3086 - root_mean_squared_error: 129.9704\n",
      "Epoch 24/30\n",
      "567/567 [==============================] - 1s 928us/step - loss: 16598.9590 - root_mean_squared_error: 128.8369\n",
      "Epoch 25/30\n",
      "567/567 [==============================] - 1s 957us/step - loss: 16403.3516 - root_mean_squared_error: 128.0756\n",
      "Epoch 26/30\n",
      "567/567 [==============================] - 1s 950us/step - loss: 16203.6514 - root_mean_squared_error: 127.2936\n",
      "Epoch 27/30\n",
      "567/567 [==============================] - 1s 966us/step - loss: 15885.7354 - root_mean_squared_error: 126.0386\n",
      "Epoch 28/30\n",
      "567/567 [==============================] - 1s 899us/step - loss: 15632.8936 - root_mean_squared_error: 125.0316\n",
      "Epoch 29/30\n",
      "567/567 [==============================] - 1s 1ms/step - loss: 15479.9785 - root_mean_squared_error: 124.4186\n",
      "Epoch 30/30\n",
      "567/567 [==============================] - 1s 1ms/step - loss: 15309.5391 - root_mean_squared_error: 123.7317\n"
     ]
    },
    {
     "name": "stderr",
     "output_type": "stream",
     "text": [
      "c:\\python\\lib\\site-packages\\numpy\\core\\_asarray.py:136: VisibleDeprecationWarning: Creating an ndarray from ragged nested sequences (which is a list-or-tuple of lists-or-tuples-or ndarrays with different lengths or shapes) is deprecated. If you meant to do this, you must specify 'dtype=object' when creating the ndarray\n",
      "  return array(a, dtype, copy=False, order=order, subok=True)\n"
     ]
    },
    {
     "data": {
      "image/png": "[encoded data removed]",
      "text/plain": [
       "<Figure size 432x288 with 1 Axes>"
      ]
     },
     "metadata": {
      "needs_background": "light"
     },
     "output_type": "display_data"
    },
    {
     "data": {
      "image/png": "[encoded data removed]",
      "text/plain": [
       "<Figure size 432x288 with 1 Axes>"
      ]
     },
     "metadata": {
      "needs_background": "light"
     },
     "output_type": "display_data"
    }
   ],
   "source": [
    "#  hyperparameters değerleri sırasıyla; öğrenme hızı (0.01-0.3) arası olması tavsiye edilir, tekrar sayısı, veri kümesi genişliğini seçiyoruz.\n",
    "learning_rate = 0.01\n",
    "epochs = 30\n",
    "batch_size = 30\n",
    "\n",
    "# \n",
    "my_feature = \"total_rooms\"  \n",
    "my_label=\"median_house_value\" \n",
    "  \n",
    "\n",
    "# Modelimizi vereceğimiz değerin boş olduğundan emin oluyoruz.\n",
    "my_model = None\n",
    "\n",
    "#Model fonksiyonumuza değerleri gönderiyoruz\n",
    "my_model = build_model(learning_rate)\n",
    "weight, bias, epochs, rmse = train_model(my_model, training_df, \n",
    "                                         my_feature, my_label,\n",
    "                                         epochs, batch_size)\n",
    "\n",
    "plot_the_model(weight, bias, my_feature, my_label)\n",
    "plot_the_loss_curve(epochs, rmse)"
   ]
  },
  {
   "cell_type": "code",
   "execution_count": 94,
   "id": "e58dd070",
   "metadata": {},
   "outputs": [
    {
     "data": {
      "text/plain": [
       "array([[181.5487]], dtype=float32)"
      ]
     },
     "execution_count": 94,
     "metadata": {},
     "output_type": "execute_result"
    }
   ],
   "source": [
    "my_model.predict([2200.0])"
   ]
  },
  {
   "cell_type": "code",
   "execution_count": 95,
   "id": "e1583315",
   "metadata": {},
   "outputs": [
    {
     "data": {
      "text/plain": [
       "4160    498.6\n",
       "7912    376.1\n",
       "8328    208.6\n",
       "8376    500.0\n",
       "10761   192.6\n",
       "12049    73.1\n",
       "16707   178.5\n",
       "16995   111.4\n",
       "Name: median_house_value, dtype: float64"
      ]
     },
     "execution_count": 95,
     "metadata": {},
     "output_type": "execute_result"
    }
   ],
   "source": [
    "training_df[training_df[\"total_rooms\"]==2217.0][\"median_house_value\"]"
   ]
  },
  {
   "cell_type": "markdown",
   "id": "595a43c6",
   "metadata": {},
   "source": [
    "Yukarıda ki tahmin ve gerçek değerler incelendiğinde; Total rooms özelliğinin bizim ulaşmamız gereken median house value değeri ile az derecede bağlantılı olduğunu görmekteyiz. Modelimizi değiştirip daha iyi sonuç elde edebiliriz ancak Total rooms özelliği bizim yeterince mantıklı sonuçlar almamızı önleycektir"
   ]
  },
  {
   "cell_type": "code",
   "execution_count": 97,
   "id": "306cf7f7",
   "metadata": {},
   "outputs": [
    {
     "data": {
      "text/plain": [
       "median_house_value    1.0\n",
       "median_income         0.7\n",
       "total_rooms           0.1\n",
       "housing_median_age    0.1\n",
       "households            0.1\n",
       "total_bedrooms        0.0\n",
       "population           -0.0\n",
       "longitude            -0.0\n",
       "latitude             -0.1\n",
       "Name: median_house_value, dtype: float64"
      ]
     },
     "execution_count": 97,
     "metadata": {},
     "output_type": "execute_result"
    }
   ],
   "source": [
    "#veri setinde korelasyona bakacağız hangi özellik bizim için en mantıklısı karar vereceğiz\n",
    "training_df.corr()[\"median_house_value\"].sort_values(ascending=False)"
   ]
  },
  {
   "cell_type": "code",
   "execution_count": 142,
   "id": "45b16f19",
   "metadata": {},
   "outputs": [
    {
     "name": "stdout",
     "output_type": "stream",
     "text": [
      "Epoch 1/20\n",
      "340/340 [==============================] - 2s 1ms/step - loss: 50772.5664 - root_mean_squared_error: 225.3277\n",
      "Epoch 2/20\n",
      "340/340 [==============================] - 1s 2ms/step - loss: 43723.6875 - root_mean_squared_error: 209.1021\n",
      "Epoch 3/20\n",
      "340/340 [==============================] - 0s 1ms/step - loss: 37243.4688 - root_mean_squared_error: 192.9857\n",
      "Epoch 4/20\n",
      "340/340 [==============================] - 0s 1ms/step - loss: 31484.2734 - root_mean_squared_error: 177.4381\n",
      "Epoch 5/20\n",
      "340/340 [==============================] - 0s 1ms/step - loss: 26307.7129 - root_mean_squared_error: 162.1965\n",
      "Epoch 6/20\n",
      "340/340 [==============================] - 0s 1ms/step - loss: 21746.9121 - root_mean_squared_error: 147.4683\n",
      "Epoch 7/20\n",
      "340/340 [==============================] - 0s 1ms/step - loss: 17792.1387 - root_mean_squared_error: 133.3872\n",
      "Epoch 8/20\n",
      "340/340 [==============================] - 0s 1ms/step - loss: 14475.6777 - root_mean_squared_error: 120.3149\n",
      "Epoch 9/20\n",
      "340/340 [==============================] - 0s 1ms/step - loss: 11780.7197 - root_mean_squared_error: 108.5390\n",
      "Epoch 10/20\n",
      "340/340 [==============================] - 0s 1ms/step - loss: 9705.0215 - root_mean_squared_error: 98.5141\n",
      "Epoch 11/20\n",
      "340/340 [==============================] - 0s 1ms/step - loss: 8249.7109 - root_mean_squared_error: 90.8279\n",
      "Epoch 12/20\n",
      "340/340 [==============================] - 0s 1ms/step - loss: 7403.4351 - root_mean_squared_error: 86.0432\n",
      "Epoch 13/20\n",
      "340/340 [==============================] - 0s 1ms/step - loss: 7075.8755 - root_mean_squared_error: 84.1182\n",
      "Epoch 14/20\n",
      "340/340 [==============================] - 0s 1ms/step - loss: 7018.2241 - root_mean_squared_error: 83.7748\n",
      "Epoch 15/20\n",
      "340/340 [==============================] - 0s 1ms/step - loss: 7014.2329 - root_mean_squared_error: 83.7510\n",
      "Epoch 16/20\n",
      "340/340 [==============================] - 0s 1ms/step - loss: 7013.7227 - root_mean_squared_error: 83.7480\n",
      "Epoch 17/20\n",
      "340/340 [==============================] - 0s 1ms/step - loss: 7013.5703 - root_mean_squared_error: 83.7471\n",
      "Epoch 18/20\n",
      "340/340 [==============================] - 0s 1ms/step - loss: 7013.7773 - root_mean_squared_error: 83.7483\n",
      "Epoch 19/20\n",
      "340/340 [==============================] - 0s 1ms/step - loss: 7013.5493 - root_mean_squared_error: 83.7469\n",
      "Epoch 20/20\n",
      "340/340 [==============================] - 0s 1ms/step - loss: 7013.5366 - root_mean_squared_error: 83.7469\n"
     ]
    },
    {
     "name": "stderr",
     "output_type": "stream",
     "text": [
      "c:\\python\\lib\\site-packages\\numpy\\core\\_asarray.py:136: VisibleDeprecationWarning: Creating an ndarray from ragged nested sequences (which is a list-or-tuple of lists-or-tuples-or ndarrays with different lengths or shapes) is deprecated. If you meant to do this, you must specify 'dtype=object' when creating the ndarray\n",
      "  return array(a, dtype, copy=False, order=order, subok=True)\n"
     ]
    },
    {
     "data": {
      "image/png": "[encoded data removed]",
      "text/plain": [
       "<Figure size 432x288 with 1 Axes>"
      ]
     },
     "metadata": {
      "needs_background": "light"
     },
     "output_type": "display_data"
    },
    {
     "data": {
      "image/png": "[encoded data removed]",
      "text/plain": [
       "<Figure size 432x288 with 1 Axes>"
      ]
     },
     "metadata": {
      "needs_background": "light"
     },
     "output_type": "display_data"
    }
   ],
   "source": [
    "# median income ile median house value birbirleriyle ne kadar benzediğini görmekteyiz feature olarak \n",
    "#median income değerini vermeliyiz\n",
    "#  hyperparameters değerleri sırasıyla; öğrenme hızı (0.01-0.3) arası olması tavsiye edilir, tekrar sayısı, veri kümesi genişliğini seçiyoruz.\n",
    "learning_rate = 0.01\n",
    "epochs = 20\n",
    "batch_size = 50\n",
    "\n",
    "# \n",
    "my_feature =\"median_income\"  \n",
    "my_label=\"median_house_value\" \n",
    "  \n",
    "\n",
    "# Modelimizi vereceğimiz değerin boş olduğundan emin oluyoruz.\n",
    "my_model1 = None\n",
    "\n",
    "#Model fonksiyonumuza değerleri gönderiyoruz\n",
    "my_model1 = build_model(learning_rate)\n",
    "weight, bias, epochs, rmse = train_model(my_model1, training_df, \n",
    "                                         my_feature, my_label,\n",
    "                                         epochs, batch_size)\n",
    "\n",
    "plot_the_model(weight, bias, my_feature, my_label)\n",
    "plot_the_loss_curve(epochs, rmse)\n"
   ]
  },
  {
   "cell_type": "code",
   "execution_count": 144,
   "id": "d72d170c",
   "metadata": {},
   "outputs": [
    {
     "data": {
      "text/plain": [
       "array([[156.58824]], dtype=float32)"
      ]
     },
     "execution_count": 144,
     "metadata": {},
     "output_type": "execute_result"
    }
   ],
   "source": [
    "my_model1.predict([2.7])"
   ]
  },
  {
   "cell_type": "code",
   "execution_count": 122,
   "id": "70dbbaa8",
   "metadata": {},
   "outputs": [
    {
     "data": {
      "text/plain": [
       "5269    180.6\n",
       "7286    171.4\n",
       "7484    313.6\n",
       "12994   172.8\n",
       "15217   132.6\n",
       "Name: median_house_value, dtype: float64"
      ]
     },
     "execution_count": 122,
     "metadata": {},
     "output_type": "execute_result"
    }
   ],
   "source": [
    "training_df[training_df[\"median_income\"]==2.6][\"median_house_value\"]"
   ]
  },
  {
   "cell_type": "code",
   "execution_count": 124,
   "id": "c0a74f63",
   "metadata": {},
   "outputs": [],
   "source": [
    "#daha makul değerler elde etmiş olduk hyperparametreler değiştirilerek ya da model yapısı yeniden kurgulanarak daha doğru \n",
    "#sonuçlar elde edilebilir"
   ]
  },
  {
   "cell_type": "code",
   "execution_count": null,
   "id": "1fefbd52",
   "metadata": {},
   "outputs": [],
   "source": []
  }
 ],
 "metadata": {
  "kernelspec": {
   "display_name": "Python 3",
   "language": "python",
   "name": "python3"
  },
  "language_info": {
   "codemirror_mode": {
    "name": "ipython",
    "version": 3
   },
   "file_extension": ".py",
   "mimetype": "text/x-python",
   "name": "python",
   "nbconvert_exporter": "python",
   "pygments_lexer": "ipython3",
   "version": "3.9.1"
  }
 },
 "nbformat": 4,
 "nbformat_minor": 5
}

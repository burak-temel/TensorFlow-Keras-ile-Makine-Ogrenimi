{
 "cells": [
  {
   "cell_type": "markdown",
   "id": "2db533c4",
   "metadata": {},
   "source": [
    "# Yapay verilerin üzerinde Linear regresyon"
   ]
  },
  {
   "cell_type": "code",
   "execution_count": 93,
   "id": "5be3e561",
   "metadata": {},
   "outputs": [],
   "source": [
    "\n",
    "#Gerekli olan kütüphanelerin tanımlanması\n",
    "import pandas as pd\n",
    "import numpy as np\n",
    "import tensorflow as tf\n",
    "from matplotlib import pyplot as plt"
   ]
  },
  {
   "cell_type": "markdown",
   "id": "858c1e08",
   "metadata": {},
   "source": [
    "Genel yapı olarak (ileride de kulllanılacak ) model oluşturmak ve eğitme fonksiyonları"
   ]
  },
  {
   "cell_type": "code",
   "execution_count": 94,
   "id": "52ee44af",
   "metadata": {},
   "outputs": [],
   "source": [
    "#model oluşturmak için fonkisyon tanımlanıypr \n",
    "def build_model(my_learning_rate):\n",
    "  # sequential modellemesi kullanılıyor basit yönlü olduğu için . \n",
    "  #https://www.datasciencearth.com/keras-model-wars-sequential-vs-functional/ detaylı anlatıma burdaan ulaşabilirsiniz\n",
    "  model = tf.keras.models.Sequential()\n",
    "\n",
    "\n",
    "  # tek katman  tek nöronlu bir yapı kullanılıyor ve giriş boyutu belirlenmesi\n",
    "  model.add(tf.keras.layers.Dense(units=1, \n",
    "                                  input_shape=(1,)))\n",
    "\n",
    "  # Model derleniyor optimizer olarak Kök kare ortolaması tercih ediliyor (Adams daha başarılı) ve loss değerini \n",
    "  # ortalamanın, gerçek değer ile farkınıni karesi toplamı  şeklinde buluyor(wikipedia'dan araştırmanızı tavsiye ederim)\n",
    "\n",
    "  model.compile(optimizer=tf.keras.optimizers.RMSprop(learning_rate=my_learning_rate),\n",
    "                loss=\"mean_squared_error\",\n",
    "                metrics=[tf.keras.metrics.RootMeanSquaredError()])\n",
    "\n",
    "  return model           \n",
    "\n",
    "# Modeli eğitmek için fonksiyon tanımlaması \n",
    "def train_model(model, feature, label, epochs, batch_size):\n",
    "\n",
    "\n",
    "  # Belirlediğimiz modele  verilen genişlik, tekrar sayısı ve veriler ile uyum sağlatıyoruz\n",
    "  history = model.fit(x=feature,\n",
    "                      y=label,\n",
    "                      batch_size=batch_size,\n",
    "                      epochs=epochs)\n",
    "\n",
    "  # Başlangın nokta ağırlığı bias' ı belirlenmesi.\n",
    "  trained_weight = model.get_weights()[0]\n",
    "  trained_bias = model.get_weights()[1]\n",
    "\n",
    "\n",
    "  epochs = history.epoch\n",
    "  \n",
    "  # Her tekrarda ayrı ayrı data frame'inin alınması ve gönderilmesi\n",
    "  hist = pd.DataFrame(history.history)\n",
    "\n",
    "  rmse = hist[\"root_mean_squared_error\"]\n",
    "\n",
    "  return trained_weight, trained_bias, epochs, rmse\n",
    "\n"
   ]
  },
  {
   "cell_type": "code",
   "execution_count": 95,
   "id": "e3eef6d1",
   "metadata": {},
   "outputs": [],
   "source": [
    "# Modelin grafiğini olduşturma fonksiyonu (Seaborn daha detaylı ve anlaşılır grafik oluşturur)\n",
    "def plot_the_model(trained_weight, trained_bias, feature, label):\n",
    "  # eksen tanımı \n",
    "  plt.xlabel(\"feature\")\n",
    "  plt.ylabel(\"label\")\n",
    "\n",
    "  # Etiketler.\n",
    "  plt.scatter(feature, label)\n",
    "\n",
    "  # daha iyi anlamak için kırmızı çizgi ile lineer çizgiyi göstermer\n",
    "  x0 = 0\n",
    "  y0 = trained_bias\n",
    "  x1 = my_feature[-1]\n",
    "  y1 = trained_bias + (trained_weight * x1)\n",
    "  plt.plot([x0, x1], [y0, y1], c='r')\n",
    "\n",
    "  # Ekrana gösterme işlmei\n",
    "  plt.show()\n",
    "\n",
    "def plot_the_loss_curve(epochs, rmse):\n",
    "  #Loss değerlerin epoch a göre değişimi (ÇOK ÖNEMLİ BİR GRAFİK BURADAN MODELİMİZ HAKKINDA YORUM YAPACAĞIZ)\n",
    "\n",
    "  plt.figure()\n",
    "  plt.xlabel(\"Epoch\")\n",
    "  plt.ylabel(\"Root Mean Squared Error\")\n",
    "\n",
    "  plt.plot(epochs, rmse, label=\"Loss\")\n",
    "  plt.legend()\n",
    "  plt.ylim([rmse.min()*0.97, rmse.max()])\n",
    "  plt.show()\n",
    "\n"
   ]
  },
  {
   "cell_type": "code",
   "execution_count": 96,
   "id": "da81a541",
   "metadata": {},
   "outputs": [],
   "source": [
    "# Basit bir veri tanımı my_feature, sonuca etki eden  özelliklerimizi; my_label, sonuçlarımızı temsil eder\n",
    "my_feature = np.array([1.0, 2.0,  3.0,  4.0,  5.0,  6.0,  7.0,  8.0,  9.0, 10.0, 11.0, 12.0])\n",
    "my_label   = np.array([5.0, 8.8,  9.6, 14.2, 18.8, 19.5, 21.4, 26.8, 28.9, 32.0, 33.8, 38.2])"
   ]
  },
  {
   "cell_type": "code",
   "execution_count": 97,
   "id": "3a958a00",
   "metadata": {},
   "outputs": [
    {
     "name": "stdout",
     "output_type": "stream",
     "text": [
      "Epoch 1/10\n",
      "1/1 [==============================] - 0s 188ms/step - loss: 836.4932 - root_mean_squared_error: 28.9222\n",
      "Epoch 2/10\n",
      "1/1 [==============================] - 0s 6ms/step - loss: 821.4702 - root_mean_squared_error: 28.6613\n",
      "Epoch 3/10\n",
      "1/1 [==============================] - 0s 1ms/step - loss: 810.7033 - root_mean_squared_error: 28.4729\n",
      "Epoch 4/10\n",
      "1/1 [==============================] - 0s 2ms/step - loss: 801.7658 - root_mean_squared_error: 28.3155\n",
      "Epoch 5/10\n",
      "1/1 [==============================] - 0s 999us/step - loss: 793.8889 - root_mean_squared_error: 28.1760\n",
      "Epoch 6/10\n",
      "1/1 [==============================] - 0s 998us/step - loss: 786.7163 - root_mean_squared_error: 28.0485\n",
      "Epoch 7/10\n",
      "1/1 [==============================] - 0s 2ms/step - loss: 780.0494 - root_mean_squared_error: 27.9294\n",
      "Epoch 8/10\n",
      "1/1 [==============================] - 0s 1ms/step - loss: 773.7651 - root_mean_squared_error: 27.8166\n",
      "Epoch 9/10\n",
      "1/1 [==============================] - 0s 1ms/step - loss: 767.7808 - root_mean_squared_error: 27.7089\n",
      "Epoch 10/10\n",
      "1/1 [==============================] - 0s 2ms/step - loss: 762.0383 - root_mean_squared_error: 27.6050\n"
     ]
    },
    {
     "name": "stderr",
     "output_type": "stream",
     "text": [
      "c:\\python\\lib\\site-packages\\numpy\\core\\_asarray.py:136: VisibleDeprecationWarning: Creating an ndarray from ragged nested sequences (which is a list-or-tuple of lists-or-tuples-or ndarrays with different lengths or shapes) is deprecated. If you meant to do this, you must specify 'dtype=object' when creating the ndarray\n",
      "  return array(a, dtype, copy=False, order=order, subok=True)\n"
     ]
    },
    {
     "data": {
      "image/png": "[encoded data removed]",
      "text/plain": [
       "<Figure size 432x288 with 1 Axes>"
      ]
     },
     "metadata": {
      "needs_background": "light"
     },
     "output_type": "display_data"
    },
    {
     "data": {
      "image/png": "[encoded data removed]",
      "text/plain": [
       "<Figure size 432x288 with 1 Axes>"
      ]
     },
     "metadata": {
      "needs_background": "light"
     },
     "output_type": "display_data"
    }
   ],
   "source": [
    "#Yukarıdan tanımlanan fonksiyon ve veriler kullanarak modelimizi oluşturacağız\n",
    "learning_rate=0.01\n",
    "epochs=10\n",
    "my_batch_size=12\n",
    "\n",
    "my_model = build_model(learning_rate)\n",
    "trained_weight, trained_bias, epochs, rmse = train_model(my_model, my_feature, \n",
    "                                                         my_label, epochs,\n",
    "                                                         my_batch_size)\n",
    "plot_the_model(trained_weight, trained_bias, my_feature, my_label)\n",
    "plot_the_loss_curve(epochs, rmse)"
   ]
  },
  {
   "cell_type": "markdown",
   "id": "5d48c4ff",
   "metadata": {},
   "source": [
    "# Grafiği İncelemek\n"
   ]
  },
  {
   "cell_type": "markdown",
   "id": "97190653",
   "metadata": {},
   "source": [
    "Kırmızı çizgi ve RMSE incelendiğinde aslında başarısız bir modelimizin olduğunu anlarız.\n",
    "Düzeltmek için\n",
    "+ Tekrar sayısı arttıralabilir, ancak dikkat edilmelidir ki ezberleme durumuna girmemelidir.\n",
    "+ Dikkat edilmesi gereken diğer nokta her tekrarda 12 veriyi aynı anda işlemektedir, bu istenmeyen bir durumdur parçalı olarak işlemek daha doğru bir yaklaşım olacaktır.\n",
    "+ Modele nöron eklebilir ki, bu kısıtlı veri için mümkün olası durmamakta.\n",
    "+ Kullanılan özellik ağırlığı değiştirilebilir, fakat başka özelliğimiz olmadığından bu seçenk de dışarıda kalmakta\n"
   ]
  },
  {
   "cell_type": "code",
   "execution_count": 98,
   "id": "f4a6db68",
   "metadata": {},
   "outputs": [
    {
     "name": "stdout",
     "output_type": "stream",
     "text": [
      "Epoch 1/100\n",
      "1/1 [==============================] - 0s 180ms/step - loss: 1180.8684 - root_mean_squared_error: 34.3638\n",
      "Epoch 2/100\n",
      "1/1 [==============================] - 0s 5ms/step - loss: 1163.0059 - root_mean_squared_error: 34.1029\n",
      "Epoch 3/100\n",
      "1/1 [==============================] - 0s 2ms/step - loss: 1150.1788 - root_mean_squared_error: 33.9143\n",
      "Epoch 4/100\n",
      "1/1 [==============================] - 0s 2ms/step - loss: 1139.5167 - root_mean_squared_error: 33.7567\n",
      "Epoch 5/100\n",
      "1/1 [==============================] - 0s 998us/step - loss: 1130.1088 - root_mean_squared_error: 33.6171\n",
      "Epoch 6/100\n",
      "1/1 [==============================] - 0s 2ms/step - loss: 1121.5332 - root_mean_squared_error: 33.4893\n",
      "Epoch 7/100\n",
      "1/1 [==============================] - 0s 2ms/step - loss: 1113.5549 - root_mean_squared_error: 33.3700\n",
      "Epoch 8/100\n",
      "1/1 [==============================] - 0s 1ms/step - loss: 1106.0278 - root_mean_squared_error: 33.2570\n",
      "Epoch 9/100\n",
      "1/1 [==============================] - 0s 2ms/step - loss: 1098.8541 - root_mean_squared_error: 33.1490\n",
      "Epoch 10/100\n",
      "1/1 [==============================] - 0s 2ms/step - loss: 1091.9651 - root_mean_squared_error: 33.0449\n",
      "Epoch 11/100\n",
      "1/1 [==============================] - 0s 1ms/step - loss: 1085.3096 - root_mean_squared_error: 32.9440\n",
      "Epoch 12/100\n",
      "1/1 [==============================] - 0s 2ms/step - loss: 1078.8495 - root_mean_squared_error: 32.8458\n",
      "Epoch 13/100\n",
      "1/1 [==============================] - 0s 1ms/step - loss: 1072.5551 - root_mean_squared_error: 32.7499\n",
      "Epoch 14/100\n",
      "1/1 [==============================] - 0s 1000us/step - loss: 1066.4022 - root_mean_squared_error: 32.6558\n",
      "Epoch 15/100\n",
      "1/1 [==============================] - 0s 2ms/step - loss: 1060.3724 - root_mean_squared_error: 32.5634\n",
      "Epoch 16/100\n",
      "1/1 [==============================] - 0s 999us/step - loss: 1054.4500 - root_mean_squared_error: 32.4723\n",
      "Epoch 17/100\n",
      "1/1 [==============================] - 0s 1ms/step - loss: 1048.6219 - root_mean_squared_error: 32.3824\n",
      "Epoch 18/100\n",
      "1/1 [==============================] - 0s 2ms/step - loss: 1042.8776 - root_mean_squared_error: 32.2936\n",
      "Epoch 19/100\n",
      "1/1 [==============================] - 0s 2ms/step - loss: 1037.2079 - root_mean_squared_error: 32.2057\n",
      "Epoch 20/100\n",
      "1/1 [==============================] - 0s 2ms/step - loss: 1031.6050 - root_mean_squared_error: 32.1186\n",
      "Epoch 21/100\n",
      "1/1 [==============================] - 0s 2ms/step - loss: 1026.0625 - root_mean_squared_error: 32.0322\n",
      "Epoch 22/100\n",
      "1/1 [==============================] - 0s 1ms/step - loss: 1020.5747 - root_mean_squared_error: 31.9464\n",
      "Epoch 23/100\n",
      "1/1 [==============================] - 0s 999us/step - loss: 1015.1367 - root_mean_squared_error: 31.8612\n",
      "Epoch 24/100\n",
      "1/1 [==============================] - 0s 2ms/step - loss: 1009.7444 - root_mean_squared_error: 31.7765\n",
      "Epoch 25/100\n",
      "1/1 [==============================] - 0s 2ms/step - loss: 1004.3940 - root_mean_squared_error: 31.6922\n",
      "Epoch 26/100\n",
      "1/1 [==============================] - 0s 2ms/step - loss: 999.0822 - root_mean_squared_error: 31.6083\n",
      "Epoch 27/100\n",
      "1/1 [==============================] - 0s 2ms/step - loss: 993.8062 - root_mean_squared_error: 31.5247\n",
      "Epoch 28/100\n",
      "1/1 [==============================] - 0s 2ms/step - loss: 988.5637 - root_mean_squared_error: 31.4414\n",
      "Epoch 29/100\n",
      "1/1 [==============================] - 0s 2ms/step - loss: 983.3524 - root_mean_squared_error: 31.3584\n",
      "Epoch 30/100\n",
      "1/1 [==============================] - 0s 2ms/step - loss: 978.1702 - root_mean_squared_error: 31.2757\n",
      "Epoch 31/100\n",
      "1/1 [==============================] - 0s 2ms/step - loss: 973.0156 - root_mean_squared_error: 31.1932\n",
      "Epoch 32/100\n",
      "1/1 [==============================] - 0s 1000us/step - loss: 967.8870 - root_mean_squared_error: 31.1109\n",
      "Epoch 33/100\n",
      "1/1 [==============================] - 0s 2ms/step - loss: 962.7830 - root_mean_squared_error: 31.0287\n",
      "Epoch 34/100\n",
      "1/1 [==============================] - 0s 3ms/step - loss: 957.7026 - root_mean_squared_error: 30.9468\n",
      "Epoch 35/100\n",
      "1/1 [==============================] - 0s 2ms/step - loss: 952.6445 - root_mean_squared_error: 30.8649\n",
      "Epoch 36/100\n",
      "1/1 [==============================] - 0s 2ms/step - loss: 947.6081 - root_mean_squared_error: 30.7832\n",
      "Epoch 37/100\n",
      "1/1 [==============================] - 0s 2ms/step - loss: 942.5921 - root_mean_squared_error: 30.7017\n",
      "Epoch 38/100\n",
      "1/1 [==============================] - 0s 2ms/step - loss: 937.5959 - root_mean_squared_error: 30.6202\n",
      "Epoch 39/100\n",
      "1/1 [==============================] - 0s 2ms/step - loss: 932.6190 - root_mean_squared_error: 30.5388\n",
      "Epoch 40/100\n",
      "1/1 [==============================] - 0s 2ms/step - loss: 927.6606 - root_mean_squared_error: 30.4575\n",
      "Epoch 41/100\n",
      "1/1 [==============================] - 0s 1000us/step - loss: 922.7202 - root_mean_squared_error: 30.3763\n",
      "Epoch 42/100\n",
      "1/1 [==============================] - 0s 3ms/step - loss: 917.7974 - root_mean_squared_error: 30.2952\n",
      "Epoch 43/100\n",
      "1/1 [==============================] - 0s 1000us/step - loss: 912.8917 - root_mean_squared_error: 30.2141\n",
      "Epoch 44/100\n",
      "1/1 [==============================] - 0s 1000us/step - loss: 908.0027 - root_mean_squared_error: 30.1331\n",
      "Epoch 45/100\n",
      "1/1 [==============================] - 0s 2ms/step - loss: 903.1301 - root_mean_squared_error: 30.0521\n",
      "Epoch 46/100\n",
      "1/1 [==============================] - 0s 2ms/step - loss: 898.2734 - root_mean_squared_error: 29.9712\n",
      "Epoch 47/100\n",
      "1/1 [==============================] - 0s 2ms/step - loss: 893.4326 - root_mean_squared_error: 29.8903\n",
      "Epoch 48/100\n",
      "1/1 [==============================] - 0s 999us/step - loss: 888.6074 - root_mean_squared_error: 29.8095\n",
      "Epoch 49/100\n",
      "1/1 [==============================] - 0s 2ms/step - loss: 883.7974 - root_mean_squared_error: 29.7287\n",
      "Epoch 50/100\n",
      "1/1 [==============================] - 0s 2ms/step - loss: 879.0026 - root_mean_squared_error: 29.6480\n",
      "Epoch 51/100\n",
      "1/1 [==============================] - 0s 1ms/step - loss: 874.2225 - root_mean_squared_error: 29.5673\n",
      "Epoch 52/100\n",
      "1/1 [==============================] - 0s 999us/step - loss: 869.4573 - root_mean_squared_error: 29.4866\n",
      "Epoch 53/100\n",
      "1/1 [==============================] - 0s 2ms/step - loss: 864.7067 - root_mean_squared_error: 29.4059\n",
      "Epoch 54/100\n",
      "1/1 [==============================] - 0s 2ms/step - loss: 859.9706 - root_mean_squared_error: 29.3253\n",
      "Epoch 55/100\n",
      "1/1 [==============================] - 0s 1ms/step - loss: 855.2488 - root_mean_squared_error: 29.2446\n",
      "Epoch 56/100\n",
      "1/1 [==============================] - 0s 1ms/step - loss: 850.5412 - root_mean_squared_error: 29.1640\n",
      "Epoch 57/100\n",
      "1/1 [==============================] - 0s 2ms/step - loss: 845.8478 - root_mean_squared_error: 29.0835\n",
      "Epoch 58/100\n",
      "1/1 [==============================] - 0s 1000us/step - loss: 841.1685 - root_mean_squared_error: 29.0029\n",
      "Epoch 59/100\n",
      "1/1 [==============================] - 0s 2ms/step - loss: 836.5031 - root_mean_squared_error: 28.9224\n",
      "Epoch 60/100\n",
      "1/1 [==============================] - 0s 2ms/step - loss: 831.8516 - root_mean_squared_error: 28.8418\n",
      "Epoch 61/100\n",
      "1/1 [==============================] - 0s 2ms/step - loss: 827.2141 - root_mean_squared_error: 28.7613\n",
      "Epoch 62/100\n",
      "1/1 [==============================] - 0s 2ms/step - loss: 822.5901 - root_mean_squared_error: 28.6808\n",
      "Epoch 63/100\n",
      "1/1 [==============================] - 0s 2ms/step - loss: 817.9802 - root_mean_squared_error: 28.6004\n",
      "Epoch 64/100\n",
      "1/1 [==============================] - 0s 999us/step - loss: 813.3836 - root_mean_squared_error: 28.5199\n",
      "Epoch 65/100\n",
      "1/1 [==============================] - 0s 2ms/step - loss: 808.8008 - root_mean_squared_error: 28.4394\n",
      "Epoch 66/100\n",
      "1/1 [==============================] - 0s 1ms/step - loss: 804.2317 - root_mean_squared_error: 28.3590\n",
      "Epoch 67/100\n",
      "1/1 [==============================] - 0s 2ms/step - loss: 799.6761 - root_mean_squared_error: 28.2785\n",
      "Epoch 68/100\n",
      "1/1 [==============================] - 0s 1ms/step - loss: 795.1340 - root_mean_squared_error: 28.1981\n",
      "Epoch 69/100\n",
      "1/1 [==============================] - 0s 2ms/step - loss: 790.6055 - root_mean_squared_error: 28.1177\n",
      "Epoch 70/100\n",
      "1/1 [==============================] - 0s 2ms/step - loss: 786.0904 - root_mean_squared_error: 28.0373\n",
      "Epoch 71/100\n"
     ]
    },
    {
     "name": "stdout",
     "output_type": "stream",
     "text": [
      "1/1 [==============================] - 0s 2ms/step - loss: 781.5889 - root_mean_squared_error: 27.9569\n",
      "Epoch 72/100\n",
      "1/1 [==============================] - 0s 2ms/step - loss: 777.1008 - root_mean_squared_error: 27.8765\n",
      "Epoch 73/100\n",
      "1/1 [==============================] - 0s 999us/step - loss: 772.6260 - root_mean_squared_error: 27.7962\n",
      "Epoch 74/100\n",
      "1/1 [==============================] - 0s 1ms/step - loss: 768.1647 - root_mean_squared_error: 27.7158\n",
      "Epoch 75/100\n",
      "1/1 [==============================] - 0s 2ms/step - loss: 763.7168 - root_mean_squared_error: 27.6354\n",
      "Epoch 76/100\n",
      "1/1 [==============================] - 0s 2ms/step - loss: 759.2824 - root_mean_squared_error: 27.5551\n",
      "Epoch 77/100\n",
      "1/1 [==============================] - 0s 2ms/step - loss: 754.8611 - root_mean_squared_error: 27.4747\n",
      "Epoch 78/100\n",
      "1/1 [==============================] - 0s 1ms/step - loss: 750.4534 - root_mean_squared_error: 27.3944\n",
      "Epoch 79/100\n",
      "1/1 [==============================] - 0s 2ms/step - loss: 746.0590 - root_mean_squared_error: 27.3141\n",
      "Epoch 80/100\n",
      "1/1 [==============================] - 0s 1ms/step - loss: 741.6778 - root_mean_squared_error: 27.2338\n",
      "Epoch 81/100\n",
      "1/1 [==============================] - 0s 1ms/step - loss: 737.3101 - root_mean_squared_error: 27.1535\n",
      "Epoch 82/100\n",
      "1/1 [==============================] - 0s 2ms/step - loss: 732.9556 - root_mean_squared_error: 27.0732\n",
      "Epoch 83/100\n",
      "1/1 [==============================] - 0s 1ms/step - loss: 728.6146 - root_mean_squared_error: 26.9929\n",
      "Epoch 84/100\n",
      "1/1 [==============================] - 0s 1ms/step - loss: 724.2868 - root_mean_squared_error: 26.9126\n",
      "Epoch 85/100\n",
      "1/1 [==============================] - 0s 2ms/step - loss: 719.9722 - root_mean_squared_error: 26.8323\n",
      "Epoch 86/100\n",
      "1/1 [==============================] - 0s 1000us/step - loss: 715.6710 - root_mean_squared_error: 26.7520\n",
      "Epoch 87/100\n",
      "1/1 [==============================] - 0s 1ms/step - loss: 711.3831 - root_mean_squared_error: 26.6718\n",
      "Epoch 88/100\n",
      "1/1 [==============================] - 0s 997us/step - loss: 707.1084 - root_mean_squared_error: 26.5915\n",
      "Epoch 89/100\n",
      "1/1 [==============================] - 0s 2ms/step - loss: 702.8471 - root_mean_squared_error: 26.5113\n",
      "Epoch 90/100\n",
      "1/1 [==============================] - 0s 2ms/step - loss: 698.5989 - root_mean_squared_error: 26.4310\n",
      "Epoch 91/100\n",
      "1/1 [==============================] - 0s 1ms/step - loss: 694.3641 - root_mean_squared_error: 26.3508\n",
      "Epoch 92/100\n",
      "1/1 [==============================] - 0s 2ms/step - loss: 690.1426 - root_mean_squared_error: 26.2706\n",
      "Epoch 93/100\n",
      "1/1 [==============================] - 0s 1ms/step - loss: 685.9343 - root_mean_squared_error: 26.1903\n",
      "Epoch 94/100\n",
      "1/1 [==============================] - 0s 2ms/step - loss: 681.7393 - root_mean_squared_error: 26.1101\n",
      "Epoch 95/100\n",
      "1/1 [==============================] - 0s 1000us/step - loss: 677.5576 - root_mean_squared_error: 26.0299\n",
      "Epoch 96/100\n",
      "1/1 [==============================] - 0s 2ms/step - loss: 673.3891 - root_mean_squared_error: 25.9497\n",
      "Epoch 97/100\n",
      "1/1 [==============================] - 0s 2ms/step - loss: 669.2339 - root_mean_squared_error: 25.8696\n",
      "Epoch 98/100\n",
      "1/1 [==============================] - 0s 1ms/step - loss: 665.0919 - root_mean_squared_error: 25.7894\n",
      "Epoch 99/100\n",
      "1/1 [==============================] - 0s 1ms/step - loss: 660.9632 - root_mean_squared_error: 25.7092\n",
      "Epoch 100/100\n",
      "1/1 [==============================] - 0s 1ms/step - loss: 656.8477 - root_mean_squared_error: 25.6290\n"
     ]
    },
    {
     "name": "stderr",
     "output_type": "stream",
     "text": [
      "c:\\python\\lib\\site-packages\\numpy\\core\\_asarray.py:136: VisibleDeprecationWarning: Creating an ndarray from ragged nested sequences (which is a list-or-tuple of lists-or-tuples-or ndarrays with different lengths or shapes) is deprecated. If you meant to do this, you must specify 'dtype=object' when creating the ndarray\n",
      "  return array(a, dtype, copy=False, order=order, subok=True)\n"
     ]
    },
    {
     "data": {
      "image/png": "[encoded data removed]",
      "text/plain": [
       "<Figure size 432x288 with 1 Axes>"
      ]
     },
     "metadata": {
      "needs_background": "light"
     },
     "output_type": "display_data"
    },
    {
     "data": {
      "image/png": "[encoded data removed]",
      "text/plain": [
       "<Figure size 432x288 with 1 Axes>"
      ]
     },
     "metadata": {
      "needs_background": "light"
     },
     "output_type": "display_data"
    }
   ],
   "source": [
    "#epoch sayısı arrttılmış model\n",
    "learning_rate=0.01\n",
    "epochs=100\n",
    "my_batch_size=12\n",
    "\n",
    "my_model1 = build_model(learning_rate)\n",
    "trained_weight1, trained_bias1, epochs, rmse = train_model(my_model1, my_feature, \n",
    "                                                         my_label, epochs,\n",
    "                                                         my_batch_size)\n",
    "plot_the_model(trained_weight1, trained_bias1, my_feature, my_label)\n",
    "plot_the_loss_curve(epochs, rmse)"
   ]
  },
  {
   "cell_type": "markdown",
   "id": "463839ab",
   "metadata": {},
   "source": [
    "Epoch sayısı arttırmak biraz işe yaradı ama tam istediğimiz gibi değil , Batch size ı 1 yapıp parçalı olarak veri setini aynı anda okumasını deneyelim"
   ]
  },
  {
   "cell_type": "code",
   "execution_count": 99,
   "id": "f6a2fb3d",
   "metadata": {},
   "outputs": [
    {
     "name": "stdout",
     "output_type": "stream",
     "text": [
      "Epoch 1/50\n",
      "12/12 [==============================] - 0s 2ms/step - loss: 291.5051 - root_mean_squared_error: 17.0735\n",
      "Epoch 2/50\n",
      "12/12 [==============================] - 0s 637us/step - loss: 259.8939 - root_mean_squared_error: 16.1212\n",
      "Epoch 3/50\n",
      "12/12 [==============================] - 0s 546us/step - loss: 234.7477 - root_mean_squared_error: 15.3215\n",
      "Epoch 4/50\n",
      "12/12 [==============================] - 0s 546us/step - loss: 212.5807 - root_mean_squared_error: 14.5801\n",
      "Epoch 5/50\n",
      "12/12 [==============================] - 0s 546us/step - loss: 191.4922 - root_mean_squared_error: 13.8381\n",
      "Epoch 6/50\n",
      "12/12 [==============================] - 0s 545us/step - loss: 171.4557 - root_mean_squared_error: 13.0941\n",
      "Epoch 7/50\n",
      "12/12 [==============================] - 0s 546us/step - loss: 154.0045 - root_mean_squared_error: 12.4099\n",
      "Epoch 8/50\n",
      "12/12 [==============================] - 0s 546us/step - loss: 136.9221 - root_mean_squared_error: 11.7014\n",
      "Epoch 9/50\n",
      "12/12 [==============================] - 0s 546us/step - loss: 120.1711 - root_mean_squared_error: 10.9623\n",
      "Epoch 10/50\n",
      "12/12 [==============================] - 0s 546us/step - loss: 103.8776 - root_mean_squared_error: 10.1920\n",
      "Epoch 11/50\n",
      "12/12 [==============================] - 0s 636us/step - loss: 89.3330 - root_mean_squared_error: 9.4516\n",
      "Epoch 12/50\n",
      "12/12 [==============================] - 0s 546us/step - loss: 76.5666 - root_mean_squared_error: 8.7502\n",
      "Epoch 13/50\n",
      "12/12 [==============================] - 0s 546us/step - loss: 65.0439 - root_mean_squared_error: 8.0650\n",
      "Epoch 14/50\n",
      "12/12 [==============================] - 0s 546us/step - loss: 53.6465 - root_mean_squared_error: 7.3244\n",
      "Epoch 15/50\n",
      "12/12 [==============================] - 0s 546us/step - loss: 43.6685 - root_mean_squared_error: 6.6082\n",
      "Epoch 16/50\n",
      "12/12 [==============================] - 0s 546us/step - loss: 35.1001 - root_mean_squared_error: 5.9245\n",
      "Epoch 17/50\n",
      "12/12 [==============================] - 0s 818us/step - loss: 27.5188 - root_mean_squared_error: 5.2458\n",
      "Epoch 18/50\n",
      "12/12 [==============================] - 0s 818us/step - loss: 21.0642 - root_mean_squared_error: 4.5896\n",
      "Epoch 19/50\n",
      "12/12 [==============================] - 0s 636us/step - loss: 15.5926 - root_mean_squared_error: 3.9487\n",
      "Epoch 20/50\n",
      "12/12 [==============================] - 0s 546us/step - loss: 11.0235 - root_mean_squared_error: 3.3202\n",
      "Epoch 21/50\n",
      "12/12 [==============================] - 0s 546us/step - loss: 7.4745 - root_mean_squared_error: 2.7339\n",
      "Epoch 22/50\n",
      "12/12 [==============================] - 0s 545us/step - loss: 4.7732 - root_mean_squared_error: 2.1848\n",
      "Epoch 23/50\n",
      "12/12 [==============================] - 0s 546us/step - loss: 2.8143 - root_mean_squared_error: 1.6776\n",
      "Epoch 24/50\n",
      "12/12 [==============================] - 0s 546us/step - loss: 1.7028 - root_mean_squared_error: 1.3049\n",
      "Epoch 25/50\n",
      "12/12 [==============================] - 0s 546us/step - loss: 1.1933 - root_mean_squared_error: 1.0924\n",
      "Epoch 26/50\n",
      "12/12 [==============================] - 0s 636us/step - loss: 1.0093 - root_mean_squared_error: 1.0046\n",
      "Epoch 27/50\n",
      "12/12 [==============================] - 0s 636us/step - loss: 0.9691 - root_mean_squared_error: 0.9844\n",
      "Epoch 28/50\n",
      "12/12 [==============================] - 0s 546us/step - loss: 0.9454 - root_mean_squared_error: 0.9723\n",
      "Epoch 29/50\n",
      "12/12 [==============================] - 0s 546us/step - loss: 0.9571 - root_mean_squared_error: 0.9783\n",
      "Epoch 30/50\n",
      "12/12 [==============================] - 0s 546us/step - loss: 0.9434 - root_mean_squared_error: 0.9713\n",
      "Epoch 31/50\n",
      "12/12 [==============================] - 0s 546us/step - loss: 0.9565 - root_mean_squared_error: 0.9780\n",
      "Epoch 32/50\n",
      "12/12 [==============================] - 0s 637us/step - loss: 0.9278 - root_mean_squared_error: 0.9632\n",
      "Epoch 33/50\n",
      "12/12 [==============================] - 0s 546us/step - loss: 0.9326 - root_mean_squared_error: 0.9657\n",
      "Epoch 34/50\n",
      "12/12 [==============================] - 0s 637us/step - loss: 0.9535 - root_mean_squared_error: 0.9765\n",
      "Epoch 35/50\n",
      "12/12 [==============================] - 0s 546us/step - loss: 0.9339 - root_mean_squared_error: 0.9664\n",
      "Epoch 36/50\n",
      "12/12 [==============================] - 0s 546us/step - loss: 0.9545 - root_mean_squared_error: 0.9770\n",
      "Epoch 37/50\n",
      "12/12 [==============================] - 0s 637us/step - loss: 0.9433 - root_mean_squared_error: 0.9713\n",
      "Epoch 38/50\n",
      "12/12 [==============================] - 0s 637us/step - loss: 0.9492 - root_mean_squared_error: 0.9743\n",
      "Epoch 39/50\n",
      "12/12 [==============================] - 0s 546us/step - loss: 0.9423 - root_mean_squared_error: 0.9707\n",
      "Epoch 40/50\n",
      "12/12 [==============================] - 0s 637us/step - loss: 0.9258 - root_mean_squared_error: 0.9622\n",
      "Epoch 41/50\n",
      "12/12 [==============================] - 0s 637us/step - loss: 0.9518 - root_mean_squared_error: 0.9756\n",
      "Epoch 42/50\n",
      "12/12 [==============================] - 0s 455us/step - loss: 0.9343 - root_mean_squared_error: 0.9666\n",
      "Epoch 43/50\n",
      "12/12 [==============================] - 0s 546us/step - loss: 0.9556 - root_mean_squared_error: 0.9776\n",
      "Epoch 44/50\n",
      "12/12 [==============================] - 0s 546us/step - loss: 0.9340 - root_mean_squared_error: 0.9664\n",
      "Epoch 45/50\n",
      "12/12 [==============================] - 0s 546us/step - loss: 0.9345 - root_mean_squared_error: 0.9667\n",
      "Epoch 46/50\n",
      "12/12 [==============================] - 0s 545us/step - loss: 0.9499 - root_mean_squared_error: 0.9746\n",
      "Epoch 47/50\n",
      "12/12 [==============================] - 0s 546us/step - loss: 0.9460 - root_mean_squared_error: 0.9726\n",
      "Epoch 48/50\n",
      "12/12 [==============================] - 0s 546us/step - loss: 0.9414 - root_mean_squared_error: 0.9703\n",
      "Epoch 49/50\n",
      "12/12 [==============================] - 0s 455us/step - loss: 0.9472 - root_mean_squared_error: 0.9732\n",
      "Epoch 50/50\n",
      "12/12 [==============================] - 0s 546us/step - loss: 0.9383 - root_mean_squared_error: 0.9687\n"
     ]
    },
    {
     "name": "stderr",
     "output_type": "stream",
     "text": [
      "c:\\python\\lib\\site-packages\\numpy\\core\\_asarray.py:136: VisibleDeprecationWarning: Creating an ndarray from ragged nested sequences (which is a list-or-tuple of lists-or-tuples-or ndarrays with different lengths or shapes) is deprecated. If you meant to do this, you must specify 'dtype=object' when creating the ndarray\n",
      "  return array(a, dtype, copy=False, order=order, subok=True)\n"
     ]
    },
    {
     "data": {
      "image/png": "[encoded data removed]",
      "text/plain": [
       "<Figure size 432x288 with 1 Axes>"
      ]
     },
     "metadata": {
      "needs_background": "light"
     },
     "output_type": "display_data"
    },
    {
     "data": {
      "image/png": "[encoded data removed]",
      "text/plain": [
       "<Figure size 432x288 with 1 Axes>"
      ]
     },
     "metadata": {
      "needs_background": "light"
     },
     "output_type": "display_data"
    }
   ],
   "source": [
    "#epoch sayısı arrttılmış model\n",
    "learning_rate=0.01\n",
    "epochs=50\n",
    "my_batch_size=1\n",
    "\n",
    "my_model2 = build_model(learning_rate)\n",
    "trained_weight2, trained_bias2, epochs, rmse = train_model(my_model2, my_feature, \n",
    "                                                         my_label, epochs,\n",
    "                                                         my_batch_size)\n",
    "plot_the_model(trained_weight2, trained_bias2, my_feature, my_label)\n",
    "plot_the_loss_curve(epochs, rmse)"
   ]
  },
  {
   "cell_type": "code",
   "execution_count": 100,
   "id": "5ea1aa0d",
   "metadata": {},
   "outputs": [
    {
     "data": {
      "text/plain": [
       "array([[20.532404]], dtype=float32)"
      ]
     },
     "execution_count": 100,
     "metadata": {},
     "output_type": "execute_result"
    }
   ],
   "source": [
    "#Tahmin yapalım\n",
    "my_model2.predict([6.2])"
   ]
  },
  {
   "cell_type": "code",
   "execution_count": 101,
   "id": "774f7c08",
   "metadata": {},
   "outputs": [
    {
     "data": {
      "text/plain": [
       "19.5"
      ]
     },
     "execution_count": 101,
     "metadata": {},
     "output_type": "execute_result"
    }
   ],
   "source": [
    "# x=6 değeri label da 5. index e denk gelmekte\n",
    "my_label[5]"
   ]
  },
  {
   "cell_type": "markdown",
   "id": "0d89f9ab",
   "metadata": {},
   "source": [
    "Makul bir değer olduğunu görmekteyiz modelimiz doğru çalışmakta"
   ]
  },
  {
   "cell_type": "code",
   "execution_count": null,
   "id": "1a602e95",
   "metadata": {},
   "outputs": [],
   "source": []
  }
 ],
 "metadata": {
  "kernelspec": {
   "display_name": "Python 3",
   "language": "python",
   "name": "python3"
  },
  "language_info": {
   "codemirror_mode": {
    "name": "ipython",
    "version": 3
   },
   "file_extension": ".py",
   "mimetype": "text/x-python",
   "name": "python",
   "nbconvert_exporter": "python",
   "pygments_lexer": "ipython3",
   "version": "3.9.1"
  }
 },
 "nbformat": 4,
 "nbformat_minor": 5
}
